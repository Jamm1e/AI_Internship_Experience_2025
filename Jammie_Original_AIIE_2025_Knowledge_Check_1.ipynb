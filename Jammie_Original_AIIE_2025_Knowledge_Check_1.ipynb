{
  "nbformat": 4,
  "nbformat_minor": 0,
  "metadata": {
    "colab": {
      "provenance": []
    },
    "kernelspec": {
      "name": "python3",
      "display_name": "Python 3"
    },
    "language_info": {
      "name": "python"
    }
  },
  "cells": [
    {
      "cell_type": "markdown",
      "metadata": {
        "id": "9Dj8pYHCHUMI"
      },
      "source": [
        "##Knowlwdge Check - 1\n"
      ]
    },
    {
      "cell_type": "markdown",
      "metadata": {
        "id": "hIzo8lkOm03D"
      },
      "source": [
        "### Printing output"
      ]
    },
    {
      "cell_type": "markdown",
      "metadata": {
        "id": "7AKKps5JXjPH"
      },
      "source": [
        "1 - Using print(), print your name and city following the format:\n",
        "\n",
        "        Name : Angela\n",
        "        City : New York\n"
      ]
    },
    {
      "cell_type": "code",
      "metadata": {
        "id": "ixFUad4Mm0Ei",
        "colab": {
          "base_uri": "https://localhost:8080/"
        },
        "outputId": "24f929a0-d76a-4713-a966-c7c322e4aed0"
      },
      "source": [
        "name = \"Jammie\"\n",
        "city = \"New York\"\n",
        "\n",
        "print(f\"Name : {name}\\nCity : {city}\")"
      ],
      "execution_count": 3,
      "outputs": [
        {
          "output_type": "stream",
          "name": "stdout",
          "text": [
            "Name : Jammie\n",
            "City : New York\n"
          ]
        }
      ]
    },
    {
      "cell_type": "markdown",
      "metadata": {
        "id": "2vonbXOxXpQH"
      },
      "source": [
        "2 - Print the message below\n",
        "\n",
        "     Emergency Alert\n",
        "     NEWS : FLASH FLOOD WARNING this area till 7:00 PM"
      ]
    },
    {
      "cell_type": "code",
      "metadata": {
        "id": "D4Iacgy_m61W",
        "colab": {
          "base_uri": "https://localhost:8080/"
        },
        "outputId": "49d9ce1a-5ab7-4935-d7e6-4d6ca90c5c53"
      },
      "source": [
        "print(\"Emergency Alert\")\n",
        "print(\"NEWS : FLASH FLOOD WARNING this area till 7:00 PM\")"
      ],
      "execution_count": 4,
      "outputs": [
        {
          "output_type": "stream",
          "name": "stdout",
          "text": [
            "Emergency Alert\n",
            "NEWS : FLASH FLOOD WARNING this area till 7:00 PM\n"
          ]
        }
      ]
    },
    {
      "cell_type": "markdown",
      "metadata": {
        "id": "lRuqg-hamQGT"
      },
      "source": [
        "### Arithmetic Operators and Variables"
      ]
    },
    {
      "cell_type": "markdown",
      "metadata": {
        "id": "j1-O0lZgX3K1"
      },
      "source": [
        "3 - Take a number and divide it by 2, then take the output and divide it by 2, and again divide by 2. Use variables.\n",
        "\n",
        "\n",
        "    Example\n",
        "    input : 2000\n",
        "    output is: 1000 500 250\n",
        "\n"
      ]
    },
    {
      "cell_type": "code",
      "metadata": {
        "id": "3zsVDZcyl2l0",
        "colab": {
          "base_uri": "https://localhost:8080/"
        },
        "outputId": "48fba469-7b86-46a3-c2ae-c01825366c87"
      },
      "source": [
        "num = int(input(\"Please enter a number: \"))\n",
        "print(f\"input : {num}\")\n",
        "\n",
        "print(f\"output : \", end= \"\")\n",
        "for _ in range(3):\n",
        "  num /= 2\n",
        "  print(f\"{int(num)}\", end=\" \")\n",
        "\n"
      ],
      "execution_count": 9,
      "outputs": [
        {
          "output_type": "stream",
          "name": "stdout",
          "text": [
            "Please enter a number: 2000\n",
            "input : 2000\n",
            "output : 1000 500 250 "
          ]
        }
      ]
    },
    {
      "cell_type": "markdown",
      "metadata": {
        "id": "deaFrnkLYGhJ"
      },
      "source": [
        "4 - Given three number x, y, and z,\n",
        "\n",
        "\n",
        "       Output: x to the power of z,\n",
        "               x to the power of y,\n",
        "               x minus y,\n",
        "               remainder value when x is divided by z"
      ]
    },
    {
      "cell_type": "code",
      "metadata": {
        "id": "4SZRBko7mvc-",
        "colab": {
          "base_uri": "https://localhost:8080/"
        },
        "outputId": "8e6735c3-d251-4cae-9927-9d09c8791012"
      },
      "source": [
        "x = int(input(\"Enter a number : \"))\n",
        "y = int(input(\"Enter another number : \"))\n",
        "z = int(input(\"Enter and another number : \"))\n",
        "\n",
        "print(f\"\\nOutput: {x**z},\\n\\t{x**y}\\n\\t{x - y}\\n\\t{x % z}\")"
      ],
      "execution_count": 11,
      "outputs": [
        {
          "output_type": "stream",
          "name": "stdout",
          "text": [
            "Enter a number : 100\n",
            "Enter another number : 3\n",
            "Enter and another number : 5\n",
            "\n",
            "Output: 10000000000,\n",
            "\t1000000\n",
            "\t97\n",
            "\t0\n"
          ]
        }
      ]
    },
    {
      "cell_type": "markdown",
      "metadata": {
        "id": "GE9xk6_TYcYN"
      },
      "source": [
        "5 - Add\n",
        "\n",
        "        4 quarters (0.25),  3 dimes (0.10), 2 nickels (0.5) and 1 cent\n",
        "        Output:  the total amount as dollars and cents."
      ]
    },
    {
      "cell_type": "code",
      "metadata": {
        "id": "UXZC9qSQsX9_",
        "colab": {
          "base_uri": "https://localhost:8080/"
        },
        "outputId": "7c775c4d-c59c-4a5a-d5f9-b1cdbc691e90"
      },
      "source": [
        "print(f\"Total amount: {(4*0.25) + (3*0.10) + (2*0.5) + 0.1}\")\n",
        "\n"
      ],
      "execution_count": 12,
      "outputs": [
        {
          "output_type": "stream",
          "name": "stdout",
          "text": [
            "Total amount: 2.4\n"
          ]
        }
      ]
    },
    {
      "cell_type": "markdown",
      "metadata": {
        "id": "O618MLtRtynL"
      },
      "source": [
        "### Strings"
      ]
    },
    {
      "cell_type": "markdown",
      "metadata": {
        "id": "iXtnKBx8Ywy_"
      },
      "source": [
        "6 - Given the string **Python**, with the help of slicing, get **o**."
      ]
    },
    {
      "cell_type": "code",
      "metadata": {
        "id": "EOD6mIiTtOzx",
        "colab": {
          "base_uri": "https://localhost:8080/"
        },
        "outputId": "b7ae2875-779e-4f08-dae6-55fe78aa7132"
      },
      "source": [
        "word = \"Python\"\n",
        "\n",
        "letter_o = word[4:5]\n",
        "\n",
        "print(letter_o)"
      ],
      "execution_count": 14,
      "outputs": [
        {
          "output_type": "stream",
          "name": "stdout",
          "text": [
            "o\n"
          ]
        }
      ]
    },
    {
      "cell_type": "markdown",
      "metadata": {
        "id": "mgnqbERkY3-J"
      },
      "source": [
        "7 - Given the string **Python**, with the help of slicing get,  **tho**."
      ]
    },
    {
      "cell_type": "code",
      "metadata": {
        "id": "7R58ftspuJK3",
        "colab": {
          "base_uri": "https://localhost:8080/"
        },
        "outputId": "65ec94f6-aa2e-4474-a83f-c61048948ac0"
      },
      "source": [
        "word = \"Python\"\n",
        "\n",
        "tho = word[2:5]\n",
        "\n",
        "print(tho)\n",
        "\n"
      ],
      "execution_count": 15,
      "outputs": [
        {
          "output_type": "stream",
          "name": "stdout",
          "text": [
            "tho\n"
          ]
        }
      ]
    },
    {
      "cell_type": "markdown",
      "metadata": {
        "id": "U2g51swGY9Hf"
      },
      "source": [
        "8 - Given the string **Python Class**, with the help of slicing, get **Class**."
      ]
    },
    {
      "cell_type": "code",
      "metadata": {
        "id": "sOUYJA0FuN78",
        "colab": {
          "base_uri": "https://localhost:8080/"
        },
        "outputId": "9f0199fa-9097-4eba-d0cb-d2edc4ec870b"
      },
      "source": [
        "word = \"Python Class\"\n",
        "\n",
        "sub = word[7:]\n",
        "\n",
        "print(sub)"
      ],
      "execution_count": 16,
      "outputs": [
        {
          "output_type": "stream",
          "name": "stdout",
          "text": [
            "Class\n"
          ]
        }
      ]
    },
    {
      "cell_type": "markdown",
      "metadata": {
        "id": "tLycBhPYZHsC"
      },
      "source": [
        "9 - Find the length of the String  **Welcome to Pace University**"
      ]
    },
    {
      "cell_type": "code",
      "metadata": {
        "id": "YIERKBvluUdA",
        "colab": {
          "base_uri": "https://localhost:8080/"
        },
        "outputId": "c94a6b45-c681-43c2-8415-71b8dec67e9f"
      },
      "source": [
        "str_word = \"Welcome to Pace University\"\n",
        "\n",
        "print(f\"Length of '{str_word}' : {len(str_word)}\")"
      ],
      "execution_count": 19,
      "outputs": [
        {
          "output_type": "stream",
          "name": "stdout",
          "text": [
            "Length of 'Welcome to Pace University' : 26\n"
          ]
        }
      ]
    },
    {
      "cell_type": "markdown",
      "metadata": {
        "id": "l7SqRwF7ZNp8"
      },
      "source": [
        "10 - Split the String  **Welcome to Pace University**  into words"
      ]
    },
    {
      "cell_type": "code",
      "metadata": {
        "id": "1SBnxastueix",
        "colab": {
          "base_uri": "https://localhost:8080/"
        },
        "outputId": "80312743-b4f2-433d-e589-5a9de8b58d57"
      },
      "source": [
        "str_word = \"Welcome to Pace University\"\n",
        "print(f\"{str_word.split()}\")"
      ],
      "execution_count": 20,
      "outputs": [
        {
          "output_type": "stream",
          "name": "stdout",
          "text": [
            "['Welcome', 'to', 'Pace', 'University']\n"
          ]
        }
      ]
    },
    {
      "cell_type": "markdown",
      "metadata": {
        "id": "YK8s1_BYZSyO"
      },
      "source": [
        "11 - Replace the letter  **i**  with  **o**  in  **Artificial intelligence**"
      ]
    },
    {
      "cell_type": "code",
      "metadata": {
        "id": "EDO4NXUUuoOm",
        "colab": {
          "base_uri": "https://localhost:8080/"
        },
        "outputId": "b75ef019-3b05-4060-bcd8-35a9c4071b0a"
      },
      "source": [
        "str_word = \"Artificial intelligence\"\n",
        "print(f\"{str_word.replace('i', 'o')}\")"
      ],
      "execution_count": 23,
      "outputs": [
        {
          "output_type": "stream",
          "name": "stdout",
          "text": [
            "Artofocoal ontellogence\n"
          ]
        }
      ]
    },
    {
      "cell_type": "markdown",
      "metadata": {
        "id": "VLMrFwqhZeNz"
      },
      "source": [
        "12 - convert the text  **DATA Science**  into lower case ( as **data science**)"
      ]
    },
    {
      "cell_type": "code",
      "metadata": {
        "id": "T7NONPC-u94X",
        "colab": {
          "base_uri": "https://localhost:8080/"
        },
        "outputId": "4ae9a7c8-dc61-43ec-d7d2-be4663c3ed49"
      },
      "source": [
        "word = \"DATA Science\"\n",
        "print(f\"{word.lower()}\")\n",
        "\n"
      ],
      "execution_count": 24,
      "outputs": [
        {
          "output_type": "stream",
          "name": "stdout",
          "text": [
            "data science\n"
          ]
        }
      ]
    },
    {
      "cell_type": "markdown",
      "metadata": {
        "id": "4EHx_9ycZkwh"
      },
      "source": [
        "13 - convert the text  **DATA Science**  into UPPER case ( as **DATA SCIENCE**)"
      ]
    },
    {
      "cell_type": "code",
      "metadata": {
        "id": "Tg1-wbUPvUYI",
        "colab": {
          "base_uri": "https://localhost:8080/"
        },
        "outputId": "ed705e94-4194-4649-8b13-84cd900f084e"
      },
      "source": [
        "word = \"DATA Science\"\n",
        "\n",
        "print(f\"{word.upper()}\")"
      ],
      "execution_count": 25,
      "outputs": [
        {
          "output_type": "stream",
          "name": "stdout",
          "text": [
            "DATA SCIENCE\n"
          ]
        }
      ]
    },
    {
      "cell_type": "markdown",
      "metadata": {
        "id": "STL6BSOOZ44L"
      },
      "source": [
        "14 - reverse the given String  **Artificial intelligence**"
      ]
    },
    {
      "cell_type": "code",
      "metadata": {
        "id": "CJPPWcOgvdWN",
        "colab": {
          "base_uri": "https://localhost:8080/"
        },
        "outputId": "9dd8c890-5b86-43a6-acd8-e80e9cc4fac5"
      },
      "source": [
        "word = \"Artificial intelligence\"\n",
        "\n",
        "print(f\"{word[::-1]}\")"
      ],
      "execution_count": 26,
      "outputs": [
        {
          "output_type": "stream",
          "name": "stdout",
          "text": [
            "ecnegilletni laicifitrA\n"
          ]
        }
      ]
    },
    {
      "cell_type": "markdown",
      "metadata": {
        "id": "TU_sm0SsoGXV"
      },
      "source": [
        "###Comparision Operators"
      ]
    },
    {
      "cell_type": "markdown",
      "metadata": {
        "id": "XJYziySoaAdz"
      },
      "source": [
        "15 - Compare two number a =150, b = 225 and print if they are:\n",
        "\n",
        "        equal,\n",
        "        greater,\n",
        "        greater than or equal to,\n",
        "        less,\n",
        "        less than or equal to,  \n",
        "        not equal\n",
        "       \n",
        "        example : a < b\n",
        "                  print(\"a is less than b\")"
      ]
    },
    {
      "cell_type": "code",
      "metadata": {
        "id": "4qFJzGo3wIsC",
        "colab": {
          "base_uri": "https://localhost:8080/"
        },
        "outputId": "74e0186c-46c1-471c-85dc-9d6c4ce53e56"
      },
      "source": [
        "a = 226\n",
        "b = 225\n",
        "\n",
        "if a > b:\n",
        "  print(\"a is greater than b\")\n",
        "elif a < b:\n",
        "  print(\"a is less than b\")\n",
        "elif a > b and a == b:\n",
        "  print(\"a is greater than or equal to b\")\n",
        "elif a < b and a == b:\n",
        "  print(\"a is less than or equal to b\")\n",
        "elif a != b:\n",
        "  print(\"a is not equal to b\")\n",
        "else:\n",
        "  print(\"a is equal to b\")\n",
        "\n"
      ],
      "execution_count": 31,
      "outputs": [
        {
          "output_type": "stream",
          "name": "stdout",
          "text": [
            "a is greater than b\n"
          ]
        }
      ]
    },
    {
      "cell_type": "markdown",
      "metadata": {
        "id": "8kbRYQGy3fsq"
      },
      "source": [
        "###Lists"
      ]
    },
    {
      "cell_type": "markdown",
      "metadata": {
        "id": "UeK6ZxU53cZF"
      },
      "source": [
        "16 - Create a **list** of **lists** of integers elements"
      ]
    },
    {
      "cell_type": "code",
      "metadata": {
        "id": "GdMdQwi33cB5",
        "colab": {
          "base_uri": "https://localhost:8080/"
        },
        "outputId": "27257b6a-6138-49ec-b327-e59e144625bb"
      },
      "source": [
        "list1 = [1,2,3]\n",
        "list2 = [4,5,6]\n",
        "list3 = [7,8,9]\n",
        "\n",
        "list_of_lists = [list1] + [list2] + [list3]\n",
        "\n",
        "print(list_of_lists)"
      ],
      "execution_count": 34,
      "outputs": [
        {
          "output_type": "stream",
          "name": "stdout",
          "text": [
            "[[1, 2, 3], [4, 5, 6], [7, 8, 9]]\n"
          ]
        }
      ]
    },
    {
      "cell_type": "markdown",
      "metadata": {
        "id": "pWriOAll3sCF"
      },
      "source": [
        "17 - Create a **list** of **lists** of Text elements"
      ]
    },
    {
      "cell_type": "code",
      "metadata": {
        "id": "eCXFxSi13rXa",
        "colab": {
          "base_uri": "https://localhost:8080/"
        },
        "outputId": "7fa6b935-cff8-4e1e-a14d-5605cdfb8f0a"
      },
      "source": [
        "list1 = ['pie', 'prop', 'loop']\n",
        "list2 = ['food', 'true', 'loom']\n",
        "list3 = ['hi', 'bye', 'grow']\n",
        "\n",
        "list_of_lists = [list1] + [list2] + [list3]\n",
        "\n",
        "print(list_of_lists)"
      ],
      "execution_count": 35,
      "outputs": [
        {
          "output_type": "stream",
          "name": "stdout",
          "text": [
            "[['pie', 'prop', 'loop'], ['food', 'true', 'loom'], ['hi', 'bye', 'grow']]\n"
          ]
        }
      ]
    },
    {
      "cell_type": "markdown",
      "metadata": {
        "id": "8zC2JP7i3ubU"
      },
      "source": []
    }
  ]
}